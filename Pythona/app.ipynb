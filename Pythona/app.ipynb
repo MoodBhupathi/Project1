{
 "cells": [
  {
   "cell_type": "code",
   "execution_count": null,
   "id": "cd3507d8-5ad9-4eba-953f-657cca0a6fc2",
   "metadata": {},
   "outputs": [],
   "source": [
    "from flask import Flask\n",
    "app=Flask(__name__)\n",
    "\n",
    "@app.route(\"/\")\n",
    "def home():\n",
    "\treturn \"Hello Algorithm!\"\n",
    "\t\n",
    "\t\n",
    "@app.route(\"/user\")\n",
    "def user():\n",
    "\treturn \"Hi from User!\"\n",
    "if __name__==\"__main__\":\n",
    "\tapp.run(host=\"0.0.0.0\",port=6000)\n",
    "\t"
   ]
  }
 ],
 "metadata": {
  "kernelspec": {
   "display_name": "Python 3 (ipykernel)",
   "language": "python",
   "name": "python3"
  },
  "language_info": {
   "codemirror_mode": {
    "name": "ipython",
    "version": 3
   },
   "file_extension": ".py",
   "mimetype": "text/x-python",
   "name": "python",
   "nbconvert_exporter": "python",
   "pygments_lexer": "ipython3",
   "version": "3.10.12"
  }
 },
 "nbformat": 4,
 "nbformat_minor": 5
}
